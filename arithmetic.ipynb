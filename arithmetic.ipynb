{
 "cells": [
  {
   "cell_type": "code",
   "execution_count": 15,
   "id": "e08951ac-bede-46ac-bfbc-0244e7b9b69b",
   "metadata": {},
   "outputs": [],
   "source": [
    "def AgeCategory(age):\n",
    "    if age < 18:\n",
    "        cate = \"Children\"\n",
    "    elif age == 35:\n",
    "        cate = \"Adult\"\n",
    "    elif age < 59:\n",
    "        cate = \"Citizen\"\n",
    "    else:\n",
    "        cate = \"Senior Citizen\"\n",
    "    return cate\n"
   ]
  },
  {
   "cell_type": "code",
   "execution_count": 17,
   "id": "05f4a3a9-3182-4e53-a53d-607b4072bf6a",
   "metadata": {},
   "outputs": [
    {
     "name": "stdin",
     "output_type": "stream",
     "text": [
      "Enter the Age:  7\n"
     ]
    },
    {
     "name": "stdout",
     "output_type": "stream",
     "text": [
      "The age category is: Children\n"
     ]
    }
   ],
   "source": [
    "age = int(input(\"Enter the Age: \"))\n",
    "agecate = AgeCategory(age)\n",
    "print(f\"The age category is: {agecate}\")\n",
    "\n"
   ]
  },
  {
   "cell_type": "code",
   "execution_count": 1,
   "id": "cbe826f7-5648-48c1-bd1b-876d9362b159",
   "metadata": {},
   "outputs": [],
   "source": [
    "class arithmetic():\n",
    "    def sum(a,b):\n",
    "        sum=a+b\n",
    "        return sum\n",
    "\n",
    "    def sub(a,b):\n",
    "        sub=b-a\n",
    "        return sub\n",
    "\n",
    "    def mul(a,b):\n",
    "        mul=a*b\n",
    "        return mul"
   ]
  },
  {
   "cell_type": "code",
   "execution_count": 2,
   "id": "774586cc-b739-4061-be41-32b6f82b8150",
   "metadata": {},
   "outputs": [
    {
     "data": {
      "text/plain": [
       "3"
      ]
     },
     "execution_count": 2,
     "metadata": {},
     "output_type": "execute_result"
    }
   ],
   "source": [
    "arithmetic.sum(1,2)"
   ]
  },
  {
   "cell_type": "code",
   "execution_count": null,
   "id": "932e2ce4-b9b7-46bd-b21e-f29699c2e3d9",
   "metadata": {},
   "outputs": [],
   "source": []
  }
 ],
 "metadata": {
  "kernelspec": {
   "display_name": "Python 3 (ipykernel)",
   "language": "python",
   "name": "python3"
  },
  "language_info": {
   "codemirror_mode": {
    "name": "ipython",
    "version": 3
   },
   "file_extension": ".py",
   "mimetype": "text/x-python",
   "name": "python",
   "nbconvert_exporter": "python",
   "pygments_lexer": "ipython3",
   "version": "3.12.4"
  }
 },
 "nbformat": 4,
 "nbformat_minor": 5
}
